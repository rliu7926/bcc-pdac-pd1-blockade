{
  "nbformat": 4,
  "nbformat_minor": 0,
  "metadata": {
    "colab": {
      "name": "3.5 Distance Estimation Function.ipynb",
      "provenance": [],
      "authorship_tag": "ABX9TyOmU7CQoz/PDI8GiQk8Vz/N",
      "include_colab_link": true
    },
    "kernelspec": {
      "name": "python3",
      "display_name": "Python 3"
    },
    "language_info": {
      "name": "python"
    }
  },
  "cells": [
    {
      "cell_type": "markdown",
      "metadata": {
        "id": "view-in-github",
        "colab_type": "text"
      },
      "source": [
        "<a href=\"https://colab.research.google.com/github/rliu7926/nie-research-project/blob/master/3.5%20Distance%20Estimation%20Function.ipynb\" target=\"_parent\"><img src=\"https://colab.research.google.com/assets/colab-badge.svg\" alt=\"Open In Colab\"/></a>"
      ]
    },
    {
      "cell_type": "code",
      "metadata": {
        "id": "So99dR28MdW0",
        "colab": {
          "base_uri": "https://localhost:8080/"
        },
        "outputId": "3e4fc7ea-5dc4-4c52-b14d-31bfc6a488bf"
      },
      "source": [
        "! pip install -q 'PyCBC==1.15.3' 'lalsuite==6.66'\n",
        "! pip install astropy\n",
        "\n",
        "from astropy.cosmology import FlatLambdaCDM, Planck18, z_at_value\n",
        "import numpy as np\n",
        "import pylab\n",
        "import math\n",
        "\n",
        "import astropy.units as u\n",
        "import matplotlib.pyplot as plt\n",
        "\n",
        "from pycbc.waveform import get_td_waveform\n",
        "\n",
        "import pycbc\n",
        "import pycbc.noise\n",
        "import pycbc.psd\n",
        "\n",
        "from random import randint\n",
        "from pycbc.filter import matched_filter\n",
        "from pycbc.psd import interpolate, inverse_spectrum_truncation\n",
        "\n",
        "import pandas as pd\n",
        "from pycbc.types import TimeSeries\n",
        "\n",
        "import seaborn as sns"
      ],
      "execution_count": null,
      "outputs": [
        {
          "output_type": "stream",
          "text": [
            "\u001b[K     |████████████████████████████████| 3.1MB 2.1MB/s \n",
            "\u001b[?25h  Installing build dependencies ... \u001b[?25l\u001b[?25hdone\n",
            "  Getting requirements to build wheel ... \u001b[?25l\u001b[?25hdone\n",
            "    Preparing wheel metadata ... \u001b[?25l\u001b[?25hdone\n",
            "\u001b[K     |████████████████████████████████| 28.5MB 150kB/s \n",
            "\u001b[K     |████████████████████████████████| 1.6MB 42.8MB/s \n",
            "\u001b[K     |████████████████████████████████| 81kB 7.5MB/s \n",
            "\u001b[K     |████████████████████████████████| 890kB 40.3MB/s \n",
            "\u001b[K     |████████████████████████████████| 61kB 6.7MB/s \n",
            "\u001b[K     |████████████████████████████████| 61kB 5.7MB/s \n",
            "\u001b[K     |████████████████████████████████| 3.2MB 40.6MB/s \n",
            "\u001b[?25h  Building wheel for PyCBC (PEP 517) ... \u001b[?25l\u001b[?25hdone\n",
            "  Building wheel for lscsoft-glue (setup.py) ... \u001b[?25l\u001b[?25hdone\n",
            "  Building wheel for emcee (setup.py) ... \u001b[?25l\u001b[?25hdone\n",
            "  Building wheel for mpld3 (setup.py) ... \u001b[?25l\u001b[?25hdone\n",
            "  Building wheel for ligo-segments (setup.py) ... \u001b[?25l\u001b[?25hdone\n",
            "Requirement already satisfied: astropy in /usr/local/lib/python3.7/dist-packages (4.2.1)\n",
            "Requirement already satisfied: pyerfa in /usr/local/lib/python3.7/dist-packages (from astropy) (1.7.3)\n",
            "Requirement already satisfied: numpy>=1.17 in /usr/local/lib/python3.7/dist-packages (from astropy) (1.19.5)\n"
          ],
          "name": "stdout"
        }
      ]
    },
    {
      "cell_type": "code",
      "metadata": {
        "id": "mTejIIujM-0I"
      },
      "source": [
        "## Taken from notebook 3.1 (updated redshift and duration)\n",
        "\n",
        "def create_waveform(mass1, mass2, resolution, frequencybound, distance, cosmology=Planck18):\n",
        "\n",
        "  redshift = 1 + z_at_value(cosmology.comoving_distance, distance * u.Mpc)\n",
        "  \n",
        "  fbound = frequencybound * redshift\n",
        "\n",
        "  waveform, waveform_cross = get_td_waveform(approximant=\"SEOBNRv4_opt\",\n",
        "                                             mass1=mass1,\n",
        "                                             mass2=mass2,\n",
        "                                             delta_t=resolution/redshift,\n",
        "                                             f_lower=fbound)\n",
        "  \n",
        "  waveform_amplitude = [0.0] * len(waveform)\n",
        "  waveform_time = [0.0] * len(waveform)\n",
        "\n",
        "  for i in range(len(waveform)):\n",
        "    waveform_amplitude[i] = waveform[i]\n",
        "    waveform_time[i] = waveform.sample_times[i]\n",
        "\n",
        "  waveform_amplitude = [i/distance for i in waveform_amplitude]\n",
        "  waveform_time = [i*redshift for i in waveform_time]\n",
        "\n",
        "  waveform_amplitude = np.array(waveform_amplitude)\n",
        "  waveform_time = np.array(waveform_time)\n",
        "\n",
        "  return waveform_amplitude, waveform_time"
      ],
      "execution_count": null,
      "outputs": []
    },
    {
      "cell_type": "code",
      "metadata": {
        "id": "XpLQqO9HNAt8"
      },
      "source": [
        "## Taken from notebook 3.2 (SNR expectation value without any noise)\n",
        "\n",
        "def expectation_SNR(mass1, mass2, templatemass1, templatemass2, resolution, psdresolution, lowfreq, distance, psd, cosmology=Planck18):\n",
        "\n",
        "  ## Create waveform \n",
        "\n",
        "  gwamp, gwtime = create_waveform(mass1=mass1, mass2=mass2, resolution=resolution, frequencybound=lowfreq, distance=distance, cosmology=cosmology)\n",
        "  gwsignal = TimeSeries(gwamp, delta_t=resolution)\n",
        "  gwsignalfreq = gwsignal.to_frequencyseries(delta_f = psdresolution)\n",
        "\n",
        "\n",
        "  ## Create PSD \n",
        "\n",
        "  flen = int((1 / resolution) / (2 * psdresolution)) + 1\n",
        "\n",
        "  if psd == 'aLIGOAPlusDesignSensitivityT1800042':\n",
        "    psdfreq = pycbc.psd.aLIGOAPlusDesignSensitivityT1800042(flen, psdresolution, lowfreq)\n",
        "  \n",
        "  if psd == 'aLIGODesignSensitivityP1200087':\n",
        "    psdfreq = pycbc.psd.aLIGODesignSensitivityP1200087(flen, psdresolution, lowfreq)\n",
        "\n",
        "  if psd == 'CosmicExplorerP1600143':\n",
        "    psdfreq = pycbc.psd.CosmicExplorerP1600143(flen, psdresolution, lowfreq)\n",
        "\n",
        "\n",
        "  ## Create template\n",
        "\n",
        "  template, _ = get_td_waveform(approximant=\"SEOBNRv4_opt\", mass1=templatemass1, mass2=templatemass2, delta_t=resolution, f_lower=lowfreq)\n",
        "  templatefreq = template.to_frequencyseries(delta_f = psdresolution)\n",
        "\n",
        "\n",
        "  ## Calculate SNR\n",
        "\n",
        "  gwdata = gwsignalfreq + psdfreq\n",
        "  snr = matched_filter(template=templatefreq, data=gwdata, psd=psdfreq, low_frequency_cutoff=lowfreq)\n",
        "\n",
        "  print(\"The signal-to-noise ratio is: {}\".format(max(abs(snr))))\n",
        "\n",
        "  return(max(abs(snr)))\n",
        "  "
      ],
      "execution_count": null,
      "outputs": []
    },
    {
      "cell_type": "code",
      "metadata": {
        "id": "a3r4TG69NB2Q"
      },
      "source": [
        "## Taken from notebook 2.2 (SNR value with noise)\n",
        "\n",
        "def determine_SNR(mass1, mass2, waveformmass1, waveformmass2, resolution, frequencybound, psdresolution, distance, noise, noisetime, graph = \"F\"):\n",
        "\n",
        "  gwamp, gwtime = create_waveform(mass1, mass2, resolution, frequencybound, distance)\n",
        "\n",
        "  # Generate the frequency series PSD\n",
        "\n",
        "  samples = int(4096 / psdresolution) + 1\n",
        "\n",
        "  designpsd = pycbc.psd.from_string(psd_name = noise,\n",
        "                                         length = samples,\n",
        "                                         delta_f = psdresolution, \n",
        "                                         low_freq_cutoff = frequencybound)\n",
        "\n",
        "  # Generate [noisetime] seconds of Gaussian noise at [1/resolution] Hz\n",
        "\n",
        "  timesamples = int(noisetime / resolution)\n",
        "  gaussiannoise = pycbc.noise.gaussian.noise_from_psd(length = timesamples, \n",
        "                                                      delta_t = resolution,\n",
        "                                                      psd = designpsd,\n",
        "                                                      seed = None)\n",
        "  \n",
        "  # Resize GW signal to the length of the random noise sample\n",
        "\n",
        "  timeshift = randint(0, len(gaussiannoise)-len(gwamp)) # Add a random timeshift\n",
        "  gwamp = np.append([0] * timeshift, gwamp) # Append zeroes before the wave\n",
        "  gwamp = np.append(gwamp, [0] * (len(gaussiannoise)-len(gwamp))) # Append zeroes after the wave \n",
        "  gwtime = gaussiannoise.sample_times\n",
        "\n",
        "  ## Add the waveform to the generated noise\n",
        "\n",
        "  gwnoise = gaussiannoise + gwamp\n",
        "\n",
        "  ## Calculate the SNR time series \n",
        "\n",
        "  waveform_template, waveform_template_cross = get_td_waveform(approximant=\"SEOBNRv4_opt\",\n",
        "                                                               mass1=waveformmass1,\n",
        "                                                               mass2=waveformmass2,\n",
        "                                                               delta_t=resolution, \n",
        "                                                               f_lower=frequencybound)\n",
        "\n",
        "  waveform_template.resize(len(gaussiannoise))\n",
        "  waveform_template = waveform_template.cyclic_time_shift(waveform_template.start_time)\n",
        "\n",
        "  ## Calculate and plot the SNR\n",
        "  \n",
        "  psd = gwnoise.psd(4)\n",
        "  psd = interpolate(psd, gwnoise.delta_f)\n",
        "  psd = inverse_spectrum_truncation(psd, 4*gwnoise.sample_rate, low_frequency_cutoff=frequencybound)\n",
        "\n",
        "  gwsnr = matched_filter(template=waveform_template,\n",
        "                         data=gwnoise,\n",
        "                         psd = psd,\n",
        "                         low_frequency_cutoff=frequencybound)\n",
        "  \n",
        "  if graph == \"T\":\n",
        "    pylab.figure()\n",
        "    pylab.plot(gwsnr.sample_times, abs(gwsnr))\n",
        "\n",
        "  gwsnrpeak = abs(gwsnr).numpy().argmax()\n",
        "  gwsnrpeakvalue = gwsnr[gwsnrpeak]\n",
        "  gwsnrpeaktime = gwsnr.sample_times[gwsnrpeak]\n",
        "\n",
        "  print(\"A signal was found at {} s with SNR {}.\".format(gwsnrpeaktime, abs(gwsnrpeakvalue)))\n",
        "  print(\"The redshifted waveform was inserted at time {} s.\".format(timeshift*resolution))\n",
        "\n",
        "  return(abs(gwsnrpeakvalue))\n"
      ],
      "execution_count": null,
      "outputs": []
    },
    {
      "cell_type": "code",
      "metadata": {
        "id": "foXvgwHuNC_w"
      },
      "source": [
        "## Create basic function for parameter estimation \n",
        "\n",
        "def estimate_parameter1(function, guess, desired, alpha, iterations): \n",
        "\n",
        "  ## Initial guess\n",
        "  pred = guess\n",
        "  estimate = function(pred)\n",
        "  print(\"Initial guess: {}\".format(estimate))\n",
        "\n",
        "  ## Update guess and iterate\n",
        "  for i in range(iterations): \n",
        "    diff = desired - estimate\n",
        "    pred = pred + alpha * diff\n",
        "    estimate = function(pred)\n",
        "    print(\"Iteration {}: {}\".format(i, estimate))\n",
        "\n",
        "  diff = desired - estimate\n",
        "  print(\"Final estimate: {}, off by {}\".format(pred, diff))\n",
        "  return(estimate)  \n"
      ],
      "execution_count": null,
      "outputs": []
    },
    {
      "cell_type": "code",
      "metadata": {
        "id": "nma9oeTDpRqf"
      },
      "source": [
        "## Test the general parameter estimation function\n",
        "def test(x):\n",
        "  return(x**2)\n",
        "\n",
        "estimate_parameter1(function=test, guess=2, desired=100, alpha=0.03, iterations=20)"
      ],
      "execution_count": null,
      "outputs": []
    },
    {
      "cell_type": "code",
      "metadata": {
        "id": "u-LeiWVgweHd"
      },
      "source": [
        "## Create function for parameter estimation with multiple parameters\n",
        "\n",
        "def estimate_parameter2(function, guess, desired, alpha, iterations, x, y): \n",
        "\n",
        "  ## Initial guess\n",
        "  \n",
        "  if x == 'param':\n",
        "    pred = guess\n",
        "    constant = y\n",
        "    estimate = function(pred, y)\n",
        "    print(\"Initial guess: {}\".format(estimate))\n",
        "\n",
        "    for i in range(iterations): \n",
        "      diff = desired - estimate\n",
        "      pred = pred + alpha * diff\n",
        "      estimate = function(pred, y)\n",
        "      print(\"Iteration {}: {}\".format(i, estimate))\n",
        "\n",
        "  if y == 'param':\n",
        "    pred = guess\n",
        "    constant = x\n",
        "    estimate = function(x, pred)\n",
        "    print(\"Initial guess: {}\".format(estimate))\n",
        "    \n",
        "    for i in range(iterations): \n",
        "      diff = desired - estimate\n",
        "      pred = pred + alpha * diff\n",
        "      estimate = function(x, pred)\n",
        "      print(\"Iteration {}: {}\".format(i, estimate))\n",
        "\n",
        "  print(\"Final estimate: {}, off by {}\".format(pred, diff))\n",
        "  return(estimate)  \n"
      ],
      "execution_count": null,
      "outputs": []
    },
    {
      "cell_type": "code",
      "metadata": {
        "id": "LzRwB-CVx3W5"
      },
      "source": [
        "def test(x,y):\n",
        "  return(x**2 * y**1.1)\n",
        "\n",
        "estimate_parameter2(function=test, guess=2, desired=1000, alpha=0.01, iterations=20, x='param', y=2)\n",
        "estimate_parameter2(function=test, guess=2, desired=1000, alpha=0.05, iterations=20, x=2, y='param')\n",
        "\n"
      ],
      "execution_count": null,
      "outputs": []
    },
    {
      "cell_type": "code",
      "metadata": {
        "id": "Suk7vtaztwLz"
      },
      "source": [
        "## Create distance estimation function\n",
        "\n",
        "def estimate_distance(snr, guess, alpha, iterations, mass1, mass2, templatemass1, templatemass2, resolution, psdresolution, lowfreq, distance='param', psd='aLIGODesignSensitivityP1200087', cosmology=Planck18): \n",
        "  \n",
        "  if distance == 'param':\n",
        "    pred = guess\n",
        "    estimate = expectation_SNR(mass1, mass2, templatemass1, templatemass2, resolution, psdresolution, lowfreq, pred, psd, cosmology)\n",
        "    print(\"Initial guess: {}\".format(estimate))\n",
        "\n",
        "    for i in range(iterations):\n",
        "      diff = snr - estimate\n",
        "      pred = pred + alpha * diff\n",
        "      estimate = expectation_SNR(mass1, mass2, templatemass1, templatemass2, resolution, psdresolution, lowfreq, pred, psd, cosmology)\n",
        "      print(\"Iteration {}: {}\".format(i, estimate))\n",
        "    \n",
        "  else: \n",
        "    print(\"Nothing to estimate: distance needs to be set to param\")\n",
        "\n",
        "  print(\"Final estimate: {}, off by {}\".format(pred, diff))\n",
        "  return(pred) "
      ],
      "execution_count": null,
      "outputs": []
    },
    {
      "cell_type": "code",
      "metadata": {
        "id": "93jinSFmz7AQ"
      },
      "source": [
        "## Test distance estimation function \n",
        "\n",
        "estimate_distance(snr=8, guess=1000, alpha=-25, iterations=50,\n",
        "                  mass1=30, mass2=30, templatemass1=30, templatemass2=30, resolution=1.0/1024, psdresolution=1.0/16, lowfreq=20, distance='param')"
      ],
      "execution_count": null,
      "outputs": []
    },
    {
      "cell_type": "code",
      "metadata": {
        "id": "nbSO_ler2uXS"
      },
      "source": [
        "## Distance estimation with varying black hole masses\n",
        "\n",
        "masslist = np.arange(25, 75, 5)\n",
        "distlist = [0] * len(masslist)\n",
        "\n",
        "for i in range(len(masslist)):\n",
        "  alpha = -25 - i\n",
        "  distlist[i] = estimate_distance(snr=8, guess=1000, alpha=alpha, iterations=50,\n",
        "                                  mass1=masslist[i], mass2=masslist[i], templatemass1=masslist[i], templatemass2=masslist[i],\n",
        "                                  resolution=1.0/1024, psdresolution=1.0/16, lowfreq=20, distance='param')"
      ],
      "execution_count": null,
      "outputs": []
    },
    {
      "cell_type": "code",
      "metadata": {
        "colab": {
          "base_uri": "https://localhost:8080/",
          "height": 300
        },
        "id": "-fxmjuty41B2",
        "outputId": "f829f0b0-2e6b-47ac-aab5-af251c7ffed2"
      },
      "source": [
        "pylab.plot(masslist, distlist)\n",
        "pylab.xlabel(\"Mass of Black Hole ($M_\\odot$)\")\n",
        "pylab.ylabel(\"Distance (Mpc)\")\n"
      ],
      "execution_count": null,
      "outputs": [
        {
          "output_type": "execute_result",
          "data": {
            "text/plain": [
              "Text(0, 0.5, 'Distance (Mpc)')"
            ]
          },
          "metadata": {
            "tags": []
          },
          "execution_count": 82
        },
        {
          "output_type": "display_data",
          "data": {
            "image/png": "[encoded data removed]",
            "text/plain": [
              "<Figure size 432x288 with 1 Axes>"
            ]
          },
          "metadata": {
            "tags": [],
            "needs_background": "light"
          }
        }
      ]
    }
  ]
}